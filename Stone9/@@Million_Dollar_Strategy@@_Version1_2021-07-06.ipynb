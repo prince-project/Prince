{
 "cells": [
  {
   "cell_type": "markdown",
   "metadata": {},
   "source": [
    "##### Import"
   ]
  },
  {
   "cell_type": "code",
   "execution_count": 1,
   "metadata": {},
   "outputs": [],
   "source": [
    "## python import\n",
    "\n",
    "import yfinance as yf\n",
    "import pandas as pd\n",
    "import numpy as np\n",
    "import os\n",
    "import matplotlib as mpl\n",
    "import matplotlib.pyplot as plt\n",
    "import datetime as datetime\n",
    "from scipy.stats import norm"
   ]
  },
  {
   "cell_type": "markdown",
   "metadata": {},
   "source": [
    "###### Yahoo Down load"
   ]
  },
  {
   "cell_type": "code",
   "execution_count": 2,
   "metadata": {},
   "outputs": [],
   "source": [
    "\n",
    "StartDate=datetime.datetime(2008,1,1)\n",
    "EndDate=datetime.datetime.today()\n"
   ]
  },
  {
   "cell_type": "code",
   "execution_count": 3,
   "metadata": {},
   "outputs": [
    {
     "data": {
      "text/plain": [
       "datetime.datetime(2008, 1, 1, 0, 0)"
      ]
     },
     "execution_count": 3,
     "metadata": {},
     "output_type": "execute_result"
    }
   ],
   "source": [
    "StartDate"
   ]
  },
  {
   "cell_type": "code",
   "execution_count": 4,
   "metadata": {},
   "outputs": [
    {
     "name": "stdout",
     "output_type": "stream",
     "text": [
      "[*********************100%***********************]  1 of 1 completed\n",
      "[*********************100%***********************]  1 of 1 completed\n",
      "[*********************100%***********************]  1 of 1 completed\n"
     ]
    }
   ],
   "source": [
    "# yahoo datadown\n",
    "VIX=yf.download('^vix',StartDate,EndDate)\n",
    "SKEW=yf.download('^skew',StartDate,EndDate)\n",
    "SPX=yf.download('^gspc',StartDate,EndDate)"
   ]
  },
  {
   "cell_type": "code",
   "execution_count": 5,
   "metadata": {},
   "outputs": [],
   "source": [
    "VIX.columns=['vix_high','vix_low','vix_open','vix_close','vix_volume','vix_adj_close']\n",
    "SKEW.columns=['skew_high','skew_low','skew_open','skew_close','skew_volume','skew_adj_close']\n",
    "SPX.columns=['spx_high','spx_low','spx_open','spx_close','spx_volume','spx_adj_close']"
   ]
  },
  {
   "cell_type": "markdown",
   "metadata": {},
   "source": [
    "##### Save pd data to excel"
   ]
  },
  {
   "cell_type": "code",
   "execution_count": 6,
   "metadata": {},
   "outputs": [],
   "source": [
    "cf=pd.concat([VIX,SKEW,SPX],axis=1)"
   ]
  },
  {
   "cell_type": "code",
   "execution_count": 7,
   "metadata": {},
   "outputs": [],
   "source": [
    "cf.to_excel(\"cf.xlsx\")"
   ]
  },
  {
   "cell_type": "markdown",
   "metadata": {},
   "source": [
    "##### Load excel data"
   ]
  },
  {
   "cell_type": "code",
   "execution_count": 8,
   "metadata": {},
   "outputs": [],
   "source": [
    "result=pd.read_excel(\"cf.xlsx\")"
   ]
  },
  {
   "cell_type": "code",
   "execution_count": 9,
   "metadata": {},
   "outputs": [],
   "source": [
    "Dates = result['Date']\n",
    "results=result.iloc[:,1:]\n",
    "results.index=Dates\n",
    "resultss=results.fillna(method='ffill')\n",
    "df=resultss"
   ]
  },
  {
   "cell_type": "markdown",
   "metadata": {},
   "source": [
    "#####  Predict realized volatility with Intra information of high and low "
   ]
  },
  {
   "cell_type": "code",
   "execution_count": 10,
   "metadata": {},
   "outputs": [],
   "source": [
    "df['spx_hl']=np.power(np.log(df['spx_high'])-np.log(df['spx_low']),2)\n",
    "df['spx_oc']=np.power((np.log(np.maximum(df['spx_open'],df['spx_close']))-np.log(np.minimum(df['spx_open'],df['spx_close']))),2)\n",
    "df['spx_on']=np.power(df['spx_close'].pct_change(),2)\n",
    "df['spx_vidl']=0.8*(df['spx_hl']-df['spx_oc'])+0.2*(df['spx_on'])\n",
    "exp_weight=[0.00170074,0.00426233,0.00743368,0.01111781,0.01525666,0.0198101,0.0247481,0.03004702,0.0356876,0.04165371,0.04793159,0.05450928,0.06137628,0.06852326,0.07594184,0.08362446,0.09156423,0.09975485,0.10819051,0.11686595]\n",
    "df['spx_vid']=df['spx_vidl'].rolling(len(exp_weight)).apply(lambda x:np.sqrt(np.sum(np.array(x)*np.array(exp_weight))*250),raw=True)\n",
    "df['rv']=df['vix_close'].shift(0)/100-df['spx_vid']\n"
   ]
  },
  {
   "cell_type": "markdown",
   "metadata": {},
   "source": [
    "##### Rolling data"
   ]
  },
  {
   "cell_type": "code",
   "execution_count": 11,
   "metadata": {},
   "outputs": [],
   "source": [
    "df['spx_ret']=df['spx_close'].pct_change()\n",
    "df['spx_r_vol']=df['spx_ret'].rolling(window=20).std()*np.sqrt(252)\n",
    "df['vix_20_mov']=df['vix_close'].rolling(window=22).mean()\n",
    "df['skew_20_mov']=df['skew_close'].rolling(window=22).mean()\n",
    "df['spx_hvol']=df['spx_ret'].rolling(10).std()*np.sqrt(252)\n",
    "df['hrv']=df['vix_close'].shift(1)/100-df['spx_hvol']\n",
    "df['spx_ewma_vol']=df['spx_ret'].ewm(10).std()*np.sqrt(252)\n"
   ]
  },
  {
   "cell_type": "code",
   "execution_count": 12,
   "metadata": {},
   "outputs": [
    {
     "data": {
      "text/html": [
       "<div>\n",
       "<style scoped>\n",
       "    .dataframe tbody tr th:only-of-type {\n",
       "        vertical-align: middle;\n",
       "    }\n",
       "\n",
       "    .dataframe tbody tr th {\n",
       "        vertical-align: top;\n",
       "    }\n",
       "\n",
       "    .dataframe thead th {\n",
       "        text-align: right;\n",
       "    }\n",
       "</style>\n",
       "<table border=\"1\" class=\"dataframe\">\n",
       "  <thead>\n",
       "    <tr style=\"text-align: right;\">\n",
       "      <th></th>\n",
       "      <th>spx_hvol</th>\n",
       "      <th>spx_vid</th>\n",
       "      <th>spx_ewma_vol</th>\n",
       "      <th>vix_close</th>\n",
       "    </tr>\n",
       "    <tr>\n",
       "      <th>Date</th>\n",
       "      <th></th>\n",
       "      <th></th>\n",
       "      <th></th>\n",
       "      <th></th>\n",
       "    </tr>\n",
       "  </thead>\n",
       "  <tbody>\n",
       "    <tr>\n",
       "      <th>2021-06-28</th>\n",
       "      <td>0.114957</td>\n",
       "      <td>0.033336</td>\n",
       "      <td>0.097938</td>\n",
       "      <td>15.76</td>\n",
       "    </tr>\n",
       "    <tr>\n",
       "      <th>2021-06-29</th>\n",
       "      <td>0.113930</td>\n",
       "      <td>0.032588</td>\n",
       "      <td>0.093533</td>\n",
       "      <td>16.02</td>\n",
       "    </tr>\n",
       "    <tr>\n",
       "      <th>2021-06-30</th>\n",
       "      <td>0.108084</td>\n",
       "      <td>0.032368</td>\n",
       "      <td>0.089181</td>\n",
       "      <td>15.83</td>\n",
       "    </tr>\n",
       "    <tr>\n",
       "      <th>2021-07-01</th>\n",
       "      <td>0.108604</td>\n",
       "      <td>0.033957</td>\n",
       "      <td>0.086966</td>\n",
       "      <td>15.48</td>\n",
       "    </tr>\n",
       "    <tr>\n",
       "      <th>2021-07-02</th>\n",
       "      <td>0.068380</td>\n",
       "      <td>0.039804</td>\n",
       "      <td>0.087280</td>\n",
       "      <td>15.07</td>\n",
       "    </tr>\n",
       "  </tbody>\n",
       "</table>\n",
       "</div>"
      ],
      "text/plain": [
       "            spx_hvol   spx_vid  spx_ewma_vol  vix_close\n",
       "Date                                                   \n",
       "2021-06-28  0.114957  0.033336      0.097938      15.76\n",
       "2021-06-29  0.113930  0.032588      0.093533      16.02\n",
       "2021-06-30  0.108084  0.032368      0.089181      15.83\n",
       "2021-07-01  0.108604  0.033957      0.086966      15.48\n",
       "2021-07-02  0.068380  0.039804      0.087280      15.07"
      ]
     },
     "execution_count": 12,
     "metadata": {},
     "output_type": "execute_result"
    }
   ],
   "source": [
    "df[['spx_hvol','spx_vid','spx_ewma_vol','vix_close']].tail(5)"
   ]
  },
  {
   "cell_type": "markdown",
   "metadata": {},
   "source": [
    "##### Vix and Skew Signal"
   ]
  },
  {
   "cell_type": "code",
   "execution_count": 13,
   "metadata": {
    "scrolled": true
   },
   "outputs": [],
   "source": [
    "df['vix_rank']=df['vix_20_mov'].rolling(window=500).apply(lambda x:( x.rank(ascending=True)[-1])/500,raw=False)\n",
    "df['skew_rank']=df['skew_20_mov'].rolling(window=500).apply(lambda x:( x.rank(ascending=True)[-1])/500,raw=False)"
   ]
  },
  {
   "cell_type": "markdown",
   "metadata": {},
   "source": [
    "#### Trend Signal"
   ]
  },
  {
   "cell_type": "code",
   "execution_count": 14,
   "metadata": {},
   "outputs": [],
   "source": [
    "df['vix_long_mov']=df['vix_close'].rolling(window=100).mean()\n",
    "df['vix_short_mov']=df['vix_close'].rolling(window=5).mean()\n",
    "df['vix_trend']=np.where(df['vix_long_mov']>df['vix_short_mov'],1,0)"
   ]
  },
  {
   "cell_type": "markdown",
   "metadata": {},
   "source": [
    "#### HRV_Signal"
   ]
  },
  {
   "cell_type": "code",
   "execution_count": 15,
   "metadata": {},
   "outputs": [],
   "source": [
    "df['hrv']=df['vix_close'].shift(1)/100-df['spx_hvol']\n",
    "df['hrv_signal']=np.where(df['hrv']>0,1,0)"
   ]
  },
  {
   "cell_type": "code",
   "execution_count": null,
   "metadata": {},
   "outputs": [],
   "source": []
  },
  {
   "cell_type": "markdown",
   "metadata": {},
   "source": [
    "#### EWMA_Signal"
   ]
  },
  {
   "cell_type": "code",
   "execution_count": 16,
   "metadata": {},
   "outputs": [
    {
     "data": {
      "text/plain": [
       "<AxesSubplot:xlabel='Date'>"
      ]
     },
     "execution_count": 16,
     "metadata": {},
     "output_type": "execute_result"
    },
    {
     "data": {
      "image/png": "[encoded data removed]",
      "text/plain": [
       "<Figure size 432x288 with 1 Axes>"
      ]
     },
     "metadata": {
      "needs_background": "light"
     },
     "output_type": "display_data"
    }
   ],
   "source": [
    "df['ewmav']=df['vix_close']/100-df['spx_hvol']\n",
    "\n",
    "df['ewmav_rank']=df['ewmav'].rolling(window=250).apply(lambda x:( x.rank(ascending=True)[-1])/250,raw=False)\n",
    "df['ewmav_rank'].loc['2019-07-01': '2019-09-30'].plot()\n",
    "df['ewmav_signal']=np.where(df['ewmav_rank'] >= 0.1,-1,0)\n",
    "df['ewmav_signal'].loc['2019-07-01': '2019-09-30'].plot()"
   ]
  },
  {
   "cell_type": "markdown",
   "metadata": {},
   "source": [
    "#### RV_Signal"
   ]
  },
  {
   "cell_type": "code",
   "execution_count": 17,
   "metadata": {},
   "outputs": [],
   "source": [
    "df['rv_signal']=np.where(df['rv']>0,1,0)"
   ]
  },
  {
   "cell_type": "code",
   "execution_count": 18,
   "metadata": {},
   "outputs": [
    {
     "data": {
      "text/plain": [
       "<AxesSubplot:xlabel='Date'>"
      ]
     },
     "execution_count": 18,
     "metadata": {},
     "output_type": "execute_result"
    },
    {
     "data": {
      "image/png": "[encoded data removed]",
      "text/plain": [
       "<Figure size 432x288 with 1 Axes>"
      ]
     },
     "metadata": {
      "needs_background": "light"
     },
     "output_type": "display_data"
    }
   ],
   "source": [
    "df.loc[:,['vix_rank','skew_rank']].plot(color='r''g', linestyle='-')"
   ]
  },
  {
   "cell_type": "code",
   "execution_count": 19,
   "metadata": {},
   "outputs": [
    {
     "data": {
      "text/html": [
       "<div>\n",
       "<style scoped>\n",
       "    .dataframe tbody tr th:only-of-type {\n",
       "        vertical-align: middle;\n",
       "    }\n",
       "\n",
       "    .dataframe tbody tr th {\n",
       "        vertical-align: top;\n",
       "    }\n",
       "\n",
       "    .dataframe thead th {\n",
       "        text-align: right;\n",
       "    }\n",
       "</style>\n",
       "<table border=\"1\" class=\"dataframe\">\n",
       "  <thead>\n",
       "    <tr style=\"text-align: right;\">\n",
       "      <th></th>\n",
       "      <th>vix_rank</th>\n",
       "      <th>skew_rank</th>\n",
       "    </tr>\n",
       "    <tr>\n",
       "      <th>Date</th>\n",
       "      <th></th>\n",
       "      <th></th>\n",
       "    </tr>\n",
       "  </thead>\n",
       "  <tbody>\n",
       "    <tr>\n",
       "      <th>2021-06-28</th>\n",
       "      <td>0.288</td>\n",
       "      <td>1.0</td>\n",
       "    </tr>\n",
       "    <tr>\n",
       "      <th>2021-06-29</th>\n",
       "      <td>0.286</td>\n",
       "      <td>1.0</td>\n",
       "    </tr>\n",
       "    <tr>\n",
       "      <th>2021-06-30</th>\n",
       "      <td>0.284</td>\n",
       "      <td>1.0</td>\n",
       "    </tr>\n",
       "    <tr>\n",
       "      <th>2021-07-01</th>\n",
       "      <td>0.278</td>\n",
       "      <td>1.0</td>\n",
       "    </tr>\n",
       "    <tr>\n",
       "      <th>2021-07-02</th>\n",
       "      <td>0.274</td>\n",
       "      <td>1.0</td>\n",
       "    </tr>\n",
       "  </tbody>\n",
       "</table>\n",
       "</div>"
      ],
      "text/plain": [
       "            vix_rank  skew_rank\n",
       "Date                           \n",
       "2021-06-28     0.288        1.0\n",
       "2021-06-29     0.286        1.0\n",
       "2021-06-30     0.284        1.0\n",
       "2021-07-01     0.278        1.0\n",
       "2021-07-02     0.274        1.0"
      ]
     },
     "execution_count": 19,
     "metadata": {},
     "output_type": "execute_result"
    }
   ],
   "source": [
    "df[['vix_rank','skew_rank']].tail(5)"
   ]
  },
  {
   "cell_type": "markdown",
   "metadata": {},
   "source": [
    "#### Intra Signal"
   ]
  },
  {
   "cell_type": "code",
   "execution_count": 20,
   "metadata": {},
   "outputs": [],
   "source": [
    "df['vix_2_mov']=df['vix_close'].rolling(window=2).mean()\n",
    "scale_n=100\n",
    "df['vol_scale']=df['vix_2_mov'].dropna().rolling(window=scale_n).apply(lambda x:( x.rank(ascending=True)[-1])/scale_n,raw=False)\n",
    "df['intra_in_out']=np.where(df['vol_scale'] > 0.7,1,0)"
   ]
  },
  {
   "cell_type": "markdown",
   "metadata": {},
   "source": [
    "##### Vix & Skew Signal"
   ]
  },
  {
   "cell_type": "code",
   "execution_count": 21,
   "metadata": {},
   "outputs": [],
   "source": [
    "\n",
    "def vix_s(v,s):\n",
    "    c=np.empty\n",
    "    if v > 0.5 and s >0.5:\n",
    "        c = 0 # 0.1\n",
    "    elif v >0.5 and s <=0.75:\n",
    "        c= -1.5  #9.5\n",
    "    elif v<=0.5 and s > 0.5:\n",
    "        c = -1\n",
    "    elif v <=0.5 and s <= 0.5:\n",
    "        c = -0.3\n",
    "    else:\n",
    "        c=0\n",
    "    return c \n",
    "                        "
   ]
  },
  {
   "cell_type": "code",
   "execution_count": 22,
   "metadata": {},
   "outputs": [],
   "source": [
    "def rt_s(r,t):\n",
    "    c=np.empty\n",
    "    if r >= 0 and t == 1:\n",
    "        c = -0.4 # 0.1\n",
    "    else:\n",
    "        c= r\n",
    "    return c "
   ]
  },
  {
   "cell_type": "code",
   "execution_count": null,
   "metadata": {},
   "outputs": [],
   "source": []
  },
  {
   "cell_type": "code",
   "execution_count": 23,
   "metadata": {},
   "outputs": [],
   "source": [
    "df['vix_signal']=df.loc[:,['vix_rank','skew_rank']].dropna().apply(lambda x: vix_s(x[0],x[1]),axis=1)\n",
    "df['rt_signal']=df.loc[:,['vix_signal','vix_trend']].dropna().apply(lambda x: rt_s(x[0],x[1]),axis=1)"
   ]
  },
  {
   "cell_type": "code",
   "execution_count": 24,
   "metadata": {},
   "outputs": [
    {
     "name": "stdout",
     "output_type": "stream",
     "text": [
      "            seokgoo_spx_signal  seokgoo_vix_signal  seokgoo_intra_in_out  \\\n",
      "Date                                                                       \n",
      "2021-07-01                   1                  -1                     0   \n",
      "2021-07-02                   1                  -1                     0   \n",
      "\n",
      "            seokgoo_spx_intra_barri  \n",
      "Date                                 \n",
      "2021-07-01                -0.134716  \n",
      "2021-07-02                -0.173695  \n"
     ]
    }
   ],
   "source": [
    "#df['seokgoo_vix_signal']=df['rt_signal'].shift(1)\n",
    "df['seokgoo_spx_signal']=df['rv_signal']*df['hrv_signal']\n",
    "df['spx_intra_vol']=(df['spx_high']-df['spx_low'])/df['spx_close']\n",
    "df['seokgoo_spx_intra_barri']=df['spx_intra_vol'].rolling(5).mean()*100*0.5\n",
    "\n",
    "df['seokgoo_vix_signal']=df['ewmav_signal']\n",
    "df['seokgoo_intra_in_out']=df['intra_in_out']\n",
    "seokgoo=pd.concat([df['seokgoo_spx_signal'],df['seokgoo_vix_signal'],df['seokgoo_intra_in_out'],df['seokgoo_spx_intra_barri']],axis=1)\n",
    "print(seokgoo.tail(2))"
   ]
  },
  {
   "cell_type": "markdown",
   "metadata": {},
   "source": [
    "#####  Return Simulation"
   ]
  },
  {
   "cell_type": "code",
   "execution_count": 25,
   "metadata": {},
   "outputs": [],
   "source": [
    "df['spx_fut_ret']=df['spx_ret'].shift(-1)"
   ]
  },
  {
   "cell_type": "code",
   "execution_count": 26,
   "metadata": {},
   "outputs": [],
   "source": [
    "C=df['rt_signal'].shift(1)*df['spx_fut_ret']*-1\n",
    "C1=df['rv_signal'].shift(2)*df['spx_fut_ret']*df['hrv_signal'].shift(2)*2\n",
    "#C1=(df['rv_signal'].shift(2)*df['skew_rank'].shift(2))*df['spx_fu_ret']*3#*df['ewmarv_signal'].shift(1)\n",
    "#C1=df['hrv_signal'].shift(1)*df['spx_fu_ret']*5\n",
    "CCC=(1+C).cumprod()\n",
    "CCC1=(1+C1).cumprod()\n"
   ]
  },
  {
   "cell_type": "code",
   "execution_count": 27,
   "metadata": {
    "scrolled": true
   },
   "outputs": [
    {
     "data": {
      "text/plain": [
       "<AxesSubplot:xlabel='Date'>"
      ]
     },
     "execution_count": 27,
     "metadata": {},
     "output_type": "execute_result"
    },
    {
     "data": {
      "image/png": "[encoded data removed]",
      "text/plain": [
       "<Figure size 432x288 with 1 Axes>"
      ]
     },
     "metadata": {
      "needs_background": "light"
     },
     "output_type": "display_data"
    }
   ],
   "source": [
    "CCC.loc['2007-01-01':].plot(legend=True)\n",
    "CCC1.loc['2007-01-01':].plot()"
   ]
  },
  {
   "cell_type": "markdown",
   "metadata": {},
   "source": [
    "##### mean Reverstion Strategy"
   ]
  },
  {
   "cell_type": "code",
   "execution_count": 28,
   "metadata": {},
   "outputs": [],
   "source": [
    "def mean_reverting(da,nday):\n",
    "    import numpy as np\n",
    "    ww=[]\n",
    "    for i in range(nday):\n",
    "        ww.append(i+1)\n",
    "    da=np.array(da)\n",
    "    weight=np.dot(da,ww)*-1*4\n",
    "    #weight=np.where(weight<0,0,weight)\n",
    "    return weight"
   ]
  },
  {
   "cell_type": "code",
   "execution_count": 29,
   "metadata": {},
   "outputs": [
    {
     "data": {
      "text/plain": [
       "[1, 2, 3, 4, 5]"
      ]
     },
     "execution_count": 29,
     "metadata": {},
     "output_type": "execute_result"
    }
   ],
   "source": [
    "ww=[]\n",
    "for i in range(5):\n",
    "    ww.append(i+1) \n",
    "ww"
   ]
  },
  {
   "cell_type": "code",
   "execution_count": 30,
   "metadata": {},
   "outputs": [],
   "source": [
    "q=np.array(ww)"
   ]
  },
  {
   "cell_type": "code",
   "execution_count": 31,
   "metadata": {},
   "outputs": [
    {
     "data": {
      "text/plain": [
       "-0.26096412530198254"
      ]
     },
     "execution_count": 31,
     "metadata": {},
     "output_type": "execute_result"
    }
   ],
   "source": [
    "x=df['spx_ret'].tail(5).T\n",
    "mean_reverting(x,5)"
   ]
  },
  {
   "cell_type": "code",
   "execution_count": 32,
   "metadata": {},
   "outputs": [],
   "source": [
    "df['wei']=df['spx_ret'].dropna().rolling(10).apply(lambda x: mean_reverting(x,10),raw=False)"
   ]
  },
  {
   "cell_type": "code",
   "execution_count": 33,
   "metadata": {},
   "outputs": [
    {
     "data": {
      "text/plain": [
       "Date\n",
       "2021-06-28   -0.504774\n",
       "2021-06-29   -0.481714\n",
       "2021-06-30   -0.491531\n",
       "2021-07-01   -0.630214\n",
       "2021-07-02   -0.837405\n",
       "Name: wei, dtype: float64"
      ]
     },
     "execution_count": 33,
     "metadata": {},
     "output_type": "execute_result"
    }
   ],
   "source": [
    "df['wei'].tail(5)"
   ]
  },
  {
   "cell_type": "code",
   "execution_count": 34,
   "metadata": {},
   "outputs": [
    {
     "data": {
      "text/plain": [
       "<AxesSubplot:xlabel='Date'>"
      ]
     },
     "execution_count": 34,
     "metadata": {},
     "output_type": "execute_result"
    },
    {
     "data": {
      "image/png": "[encoded data removed]",
      "text/plain": [
       "<Figure size 432x288 with 1 Axes>"
      ]
     },
     "metadata": {
      "needs_background": "light"
     },
     "output_type": "display_data"
    }
   ],
   "source": [
    "df['wei'].plot()"
   ]
  },
  {
   "cell_type": "code",
   "execution_count": 98,
   "metadata": {},
   "outputs": [],
   "source": [
    "#sendtxt=seokgoo.columns.values.tolist()+seokgoo.tail(1).values.tolist()\n"
   ]
  },
  {
   "cell_type": "code",
   "execution_count": 106,
   "metadata": {},
   "outputs": [],
   "source": [
    "txtcol=seokgoo.columns.values.tolist()\n",
    "txtval=seokgoo.tail(1).values.tolist()"
   ]
  },
  {
   "cell_type": "code",
   "execution_count": 135,
   "metadata": {},
   "outputs": [],
   "source": [
    "str(txtval[0][0])"
   ]
  },
  {
   "cell_type": "code",
   "execution_count": 128,
   "metadata": {},
   "outputs": [],
   "source": [
    "import telepot"
   ]
  },
  {
   "cell_type": "code",
   "execution_count": 145,
   "metadata": {},
   "outputs": [],
   "source": [
    "ma=txtcol[0]+':'+ str(txtval[0][0])+'\\n'+txtcol[1]+':'+ str(txtval[0][1])+'\\n'+txtcol[2]+':'+ str(txtval[0][2])+'\\n'"
   ]
  },
  {
   "cell_type": "code",
   "execution_count": 146,
   "metadata": {},
   "outputs": [],
   "source": [
    "bot=telepot.Bot(token='1869681798:AAHUK-pLER5Uah_xHYkD6TgUBgph8Aa2kkM')\n",
    "id1='508255215'\n",
    "id2='34316367'\n",
    "id3='1524661832'"
   ]
  },
  {
   "cell_type": "code",
   "execution_count": 154,
   "metadata": {},
   "outputs": [
    {
     "data": {
      "text/plain": [
       "{'message_id': 34,\n",
       " 'from': {'id': 1869681798,\n",
       "  'is_bot': True,\n",
       "  'first_name': 'Stone9',\n",
       "  'username': 'Stone9_bot'},\n",
       " 'chat': {'id': 34316367,\n",
       "  'first_name': 'Seung Min',\n",
       "  'last_name': 'Lee',\n",
       "  'username': 'olguri',\n",
       "  'type': 'private'},\n",
       " 'date': 1625547397,\n",
       " 'text': 'seokgoo_spx_signal:1.0\\nseokgoo_vix_signal:-1.0\\nseokgoo_intra_in_out:0.0'}"
      ]
     },
     "execution_count": 154,
     "metadata": {},
     "output_type": "execute_result"
    }
   ],
   "source": [
    "bot.sendMessage(id2,txtcol[0]+':'+ str(txtval[0][0])+'\\n'+txtcol[1]+':'+ str(txtval[0][1])+'\\n'+txtcol[2]+':'+ str(txtval[0][2])+'\\n')"
   ]
  },
  {
   "cell_type": "code",
   "execution_count": null,
   "metadata": {},
   "outputs": [],
   "source": []
  },
  {
   "cell_type": "code",
   "execution_count": null,
   "metadata": {},
   "outputs": [],
   "source": []
  }
 ],
 "metadata": {
  "kernelspec": {
   "display_name": "Python 3",
   "language": "python",
   "name": "python3"
  },
  "language_info": {
   "codemirror_mode": {
    "name": "ipython",
    "version": 3
   },
   "file_extension": ".py",
   "mimetype": "text/x-python",
   "name": "python",
   "nbconvert_exporter": "python",
   "pygments_lexer": "ipython3",
   "version": "3.8.8"
  }
 },
 "nbformat": 4,
 "nbformat_minor": 2
}
