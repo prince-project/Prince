{
 "cells": [
  {
   "cell_type": "markdown",
   "metadata": {},
   "source": [
    "##### Import"
   ]
  },
  {
   "cell_type": "code",
   "execution_count": 1,
   "metadata": {},
   "outputs": [],
   "source": [
    "## python import\n",
    "\n",
    "import yfinance as yf\n",
    "import pandas as pd\n",
    "import numpy as np\n",
    "import os\n",
    "import matplotlib as mpl\n",
    "import matplotlib.pyplot as plt\n",
    "import datetime as datetime\n",
    "from scipy.stats import norm"
   ]
  },
  {
   "cell_type": "markdown",
   "metadata": {},
   "source": [
    "###### Yahoo Down load"
   ]
  },
  {
   "cell_type": "code",
   "execution_count": 2,
   "metadata": {},
   "outputs": [],
   "source": [
    "\n",
    "StartDate=datetime.datetime(2008,1,1)\n",
    "EndDate=datetime.datetime.today()\n"
   ]
  },
  {
   "cell_type": "code",
   "execution_count": 3,
   "metadata": {},
   "outputs": [
    {
     "data": {
      "text/plain": [
       "datetime.datetime(2008, 1, 1, 0, 0)"
      ]
     },
     "execution_count": 3,
     "metadata": {},
     "output_type": "execute_result"
    }
   ],
   "source": [
    "StartDate"
   ]
  },
  {
   "cell_type": "code",
   "execution_count": null,
   "metadata": {},
   "outputs": [
    {
     "name": "stderr",
     "output_type": "stream",
     "text": [
      "Exception in thread Thread-4:\n",
      "Traceback (most recent call last):\n",
      "  File \"/Library/Frameworks/Python.framework/Versions/3.8/lib/python3.8/threading.py\", line 932, in _bootstrap_inner\n",
      "    self.run()\n",
      "  File \"/Library/Frameworks/Python.framework/Versions/3.8/lib/python3.8/threading.py\", line 870, in run\n",
      "    self._target(*self._args, **self._kwargs)\n",
      "  File \"/Library/Frameworks/Python.framework/Versions/3.8/lib/python3.8/site-packages/multitasking/__init__.py\", line 102, in _run_via_pool\n",
      "    return callee(*args, **kwargs)\n",
      "  File \"/Library/Frameworks/Python.framework/Versions/3.8/lib/python3.8/site-packages/yfinance/multi.py\", line 167, in _download_one_threaded\n",
      "    data = _download_one(ticker, start, end, auto_adjust, back_adjust,\n",
      "  File \"/Library/Frameworks/Python.framework/Versions/3.8/lib/python3.8/site-packages/yfinance/multi.py\", line 179, in _download_one\n",
      "    return Ticker(ticker).history(period=period, interval=interval,\n",
      "  File \"/Library/Frameworks/Python.framework/Versions/3.8/lib/python3.8/site-packages/yfinance/base.py\", line 157, in history\n",
      "    data = data.json()\n",
      "  File \"/Library/Frameworks/Python.framework/Versions/3.8/lib/python3.8/site-packages/requests/models.py\", line 900, in json\n",
      "    return complexjson.loads(self.text, **kwargs)\n",
      "  File \"/Library/Frameworks/Python.framework/Versions/3.8/lib/python3.8/json/__init__.py\", line 357, in loads\n",
      "    return _default_decoder.decode(s)\n",
      "  File \"/Library/Frameworks/Python.framework/Versions/3.8/lib/python3.8/json/decoder.py\", line 337, in decode\n",
      "    obj, end = self.raw_decode(s, idx=_w(s, 0).end())\n",
      "  File \"/Library/Frameworks/Python.framework/Versions/3.8/lib/python3.8/json/decoder.py\", line 355, in raw_decode\n",
      "    raise JSONDecodeError(\"Expecting value\", s, err.value) from None\n",
      "json.decoder.JSONDecodeError: Expecting value: line 1 column 1 (char 0)\n"
     ]
    }
   ],
   "source": [
    "# yahoo datadown\n",
    "VIX=yf.download('^vix',StartDate,EndDate)\n",
    "SKEW=yf.download('^skew',StartDate,EndDate)\n",
    "SPX=yf.download('^gspc',StartDate,EndDate)"
   ]
  },
  {
   "cell_type": "code",
   "execution_count": 5,
   "metadata": {},
   "outputs": [],
   "source": [
    "VIX.columns=['vix_high','vix_low','vix_open','vix_close','vix_volume','vix_adj_close']\n",
    "SKEW.columns=['skew_high','skew_low','skew_open','skew_close','skew_volume','skew_adj_close']\n",
    "SPX.columns=['spx_high','spx_low','spx_open','spx_close','spx_volume','spx_adj_close']"
   ]
  },
  {
   "cell_type": "markdown",
   "metadata": {},
   "source": [
    "##### Save pd data to excel"
   ]
  },
  {
   "cell_type": "code",
   "execution_count": 6,
   "metadata": {},
   "outputs": [],
   "source": [
    "cf=pd.concat([VIX,SKEW,SPX],axis=1)"
   ]
  },
  {
   "cell_type": "code",
   "execution_count": 7,
   "metadata": {},
   "outputs": [],
   "source": [
    "cf.to_excel(\"cf.xlsx\")"
   ]
  },
  {
   "cell_type": "markdown",
   "metadata": {},
   "source": [
    "##### Load excel data"
   ]
  },
  {
   "cell_type": "code",
   "execution_count": 8,
   "metadata": {},
   "outputs": [],
   "source": [
    "result=pd.read_excel(\"cf.xlsx\")"
   ]
  },
  {
   "cell_type": "code",
   "execution_count": 9,
   "metadata": {},
   "outputs": [],
   "source": [
    "Dates = result['Date']\n",
    "results=result.iloc[:,1:]\n",
    "results.index=Dates\n",
    "resultss=results.fillna(method='ffill')\n",
    "df=resultss"
   ]
  },
  {
   "cell_type": "markdown",
   "metadata": {},
   "source": [
    "#####  Predict realized volatility with Intra information of high and low "
   ]
  },
  {
   "cell_type": "code",
   "execution_count": 10,
   "metadata": {},
   "outputs": [],
   "source": [
    "df['spx_hl']=np.power(np.log(df['spx_high'])-np.log(df['spx_low']),2)\n",
    "df['spx_oc']=np.power((np.log(np.maximum(df['spx_open'],df['spx_close']))-np.log(np.minimum(df['spx_open'],df['spx_close']))),2)\n",
    "df['spx_on']=np.power(df['spx_close'].pct_change(),2)\n",
    "df['spx_vidl']=0.8*(df['spx_hl']-df['spx_oc'])+0.2*(df['spx_on'])\n",
    "exp_weight=[0.00170074,0.00426233,0.00743368,0.01111781,0.01525666,0.0198101,0.0247481,0.03004702,0.0356876,0.04165371,0.04793159,0.05450928,0.06137628,0.06852326,0.07594184,0.08362446,0.09156423,0.09975485,0.10819051,0.11686595]\n",
    "df['spx_vid']=df['spx_vidl'].rolling(len(exp_weight)).apply(lambda x:np.sqrt(np.sum(np.array(x)*np.array(exp_weight))*250),raw=True)\n",
    "\n",
    "df['rv']=df['vix_close']/100-df['spx_vid']\n"
   ]
  },
  {
   "cell_type": "code",
   "execution_count": 11,
   "metadata": {},
   "outputs": [
    {
     "data": {
      "text/plain": [
       "Date\n",
       "2021-06-11    0.021193\n",
       "2021-06-14         NaN\n",
       "2021-06-15         NaN\n",
       "2021-06-16         NaN\n",
       "2021-06-17         NaN\n",
       "2021-06-18         NaN\n",
       "2021-06-21    0.031102\n",
       "2021-06-22    0.034467\n",
       "2021-06-23    0.034323\n",
       "2021-06-24    0.037877\n",
       "2021-06-25    0.038056\n",
       "2021-06-28    0.033336\n",
       "2021-06-29    0.032588\n",
       "2021-06-30    0.032368\n",
       "2021-07-01    0.033957\n",
       "2021-07-02    0.039804\n",
       "2021-07-06    0.020286\n",
       "2021-07-07         NaN\n",
       "2021-07-08         NaN\n",
       "2021-07-09         NaN\n",
       "Name: spx_vid, dtype: float64"
      ]
     },
     "execution_count": 11,
     "metadata": {},
     "output_type": "execute_result"
    }
   ],
   "source": [
    "df['spx_vid'].tail(20)"
   ]
  },
  {
   "cell_type": "markdown",
   "metadata": {},
   "source": [
    "##### Rolling data"
   ]
  },
  {
   "cell_type": "code",
   "execution_count": 12,
   "metadata": {},
   "outputs": [],
   "source": [
    "df['spx_ret']=df['spx_close'].pct_change()\n",
    "df['vix_ret']=df['vix_close'].diff()\n",
    "df['spx_r_vol']=df['spx_ret'].rolling(window=20).std()*np.sqrt(252)\n",
    "df['vix_20_mov']=df['vix_close'].rolling(window=22).mean()\n",
    "df['skew_20_mov']=df['skew_close'].rolling(window=22).mean()\n",
    "df['spx_hvol']=df['spx_ret'].rolling(10).std()*np.sqrt(252)\n",
    "df['hrv']=df['vix_close'].shift(1)/100-df['spx_hvol']\n",
    "df['spx_ewma_vol']=df['spx_ret'].ewm(10).std()*np.sqrt(252)\n"
   ]
  },
  {
   "cell_type": "code",
   "execution_count": 13,
   "metadata": {},
   "outputs": [
    {
     "data": {
      "text/html": [
       "<div>\n",
       "<style scoped>\n",
       "    .dataframe tbody tr th:only-of-type {\n",
       "        vertical-align: middle;\n",
       "    }\n",
       "\n",
       "    .dataframe tbody tr th {\n",
       "        vertical-align: top;\n",
       "    }\n",
       "\n",
       "    .dataframe thead th {\n",
       "        text-align: right;\n",
       "    }\n",
       "</style>\n",
       "<table border=\"1\" class=\"dataframe\">\n",
       "  <thead>\n",
       "    <tr style=\"text-align: right;\">\n",
       "      <th></th>\n",
       "      <th>spx_hvol</th>\n",
       "      <th>spx_vid</th>\n",
       "      <th>spx_ewma_vol</th>\n",
       "      <th>vix_close</th>\n",
       "    </tr>\n",
       "    <tr>\n",
       "      <th>Date</th>\n",
       "      <th></th>\n",
       "      <th></th>\n",
       "      <th></th>\n",
       "      <th></th>\n",
       "    </tr>\n",
       "  </thead>\n",
       "  <tbody>\n",
       "    <tr>\n",
       "      <th>2021-07-02</th>\n",
       "      <td>0.068380</td>\n",
       "      <td>0.039804</td>\n",
       "      <td>0.087280</td>\n",
       "      <td>15.070000</td>\n",
       "    </tr>\n",
       "    <tr>\n",
       "      <th>2021-07-06</th>\n",
       "      <td>0.050144</td>\n",
       "      <td>0.020286</td>\n",
       "      <td>0.085532</td>\n",
       "      <td>16.440001</td>\n",
       "    </tr>\n",
       "    <tr>\n",
       "      <th>2021-07-07</th>\n",
       "      <td>0.048592</td>\n",
       "      <td>NaN</td>\n",
       "      <td>0.081869</td>\n",
       "      <td>16.200001</td>\n",
       "    </tr>\n",
       "    <tr>\n",
       "      <th>2021-07-08</th>\n",
       "      <td>0.072899</td>\n",
       "      <td>NaN</td>\n",
       "      <td>0.092269</td>\n",
       "      <td>19.000000</td>\n",
       "    </tr>\n",
       "    <tr>\n",
       "      <th>2021-07-09</th>\n",
       "      <td>0.085312</td>\n",
       "      <td>NaN</td>\n",
       "      <td>0.100241</td>\n",
       "      <td>16.180000</td>\n",
       "    </tr>\n",
       "  </tbody>\n",
       "</table>\n",
       "</div>"
      ],
      "text/plain": [
       "            spx_hvol   spx_vid  spx_ewma_vol  vix_close\n",
       "Date                                                   \n",
       "2021-07-02  0.068380  0.039804      0.087280  15.070000\n",
       "2021-07-06  0.050144  0.020286      0.085532  16.440001\n",
       "2021-07-07  0.048592       NaN      0.081869  16.200001\n",
       "2021-07-08  0.072899       NaN      0.092269  19.000000\n",
       "2021-07-09  0.085312       NaN      0.100241  16.180000"
      ]
     },
     "execution_count": 13,
     "metadata": {},
     "output_type": "execute_result"
    }
   ],
   "source": [
    "df[['spx_hvol','spx_vid','spx_ewma_vol','vix_close']].tail(5)"
   ]
  },
  {
   "cell_type": "markdown",
   "metadata": {},
   "source": [
    "##### Vix and Skew Signal"
   ]
  },
  {
   "cell_type": "code",
   "execution_count": 14,
   "metadata": {
    "scrolled": true
   },
   "outputs": [],
   "source": [
    "df['vix_rank']=df['vix_20_mov'].rolling(window=500).apply(lambda x:( x.rank(ascending=True)[-1])/500,raw=False)\n",
    "df['skew_rank']=df['skew_20_mov'].rolling(window=500).apply(lambda x:( x.rank(ascending=True)[-1])/500,raw=False)"
   ]
  },
  {
   "cell_type": "markdown",
   "metadata": {},
   "source": [
    "#### Trend Signal"
   ]
  },
  {
   "cell_type": "code",
   "execution_count": 15,
   "metadata": {},
   "outputs": [],
   "source": [
    "df['vix_long_mov']=df['vix_close'].rolling(window=100).mean()\n",
    "df['vix_short_mov']=df['vix_close'].rolling(window=5).mean()\n",
    "df['vix_trend']=np.where(df['vix_long_mov']>df['vix_short_mov'],1,-1)"
   ]
  },
  {
   "cell_type": "markdown",
   "metadata": {},
   "source": [
    "#### HRV_Signal"
   ]
  },
  {
   "cell_type": "code",
   "execution_count": 16,
   "metadata": {},
   "outputs": [],
   "source": [
    "df['hrv']=df['vix_close'].shift(1)/100-df['spx_hvol']\n",
    "df['hrv_signal']=np.where(df['hrv']>0,1,0)"
   ]
  },
  {
   "cell_type": "code",
   "execution_count": null,
   "metadata": {},
   "outputs": [],
   "source": []
  },
  {
   "cell_type": "markdown",
   "metadata": {},
   "source": [
    "#### EWMA_Signal"
   ]
  },
  {
   "cell_type": "code",
   "execution_count": 116,
   "metadata": {},
   "outputs": [
    {
     "data": {
      "text/plain": [
       "<AxesSubplot:xlabel='Date'>"
      ]
     },
     "execution_count": 116,
     "metadata": {},
     "output_type": "execute_result"
    },
    {
     "data": {
      "image/png": "[encoded data removed]",
      "text/plain": [
       "<Figure size 432x288 with 1 Axes>"
      ]
     },
     "metadata": {
      "needs_background": "light"
     },
     "output_type": "display_data"
    }
   ],
   "source": [
    "df['ewmav']=df['vix_close']/100-df['spx_ewma_vol']\n",
    "\n",
    "df['ewmav_rank']=df['ewmav'].rolling(window=100).apply(lambda x:( x.rank(ascending=True)[-1])/100,raw=False)\n",
    "df['ewmav_rank'].loc['2019-07-01': '2019-09-30'].plot()\n",
    "df['ewmav_signal']=np.where(df['ewmav_rank'] >= 0.1,-1,0)\n",
    "df['ewmav_signal'].loc['2019-07-01': '2019-09-30'].plot()"
   ]
  },
  {
   "cell_type": "markdown",
   "metadata": {},
   "source": [
    "#### RV_Signal"
   ]
  },
  {
   "cell_type": "code",
   "execution_count": 117,
   "metadata": {},
   "outputs": [],
   "source": [
    "df['rv_signal']=np.where(df['rv']>0,1,0)"
   ]
  },
  {
   "cell_type": "code",
   "execution_count": 118,
   "metadata": {},
   "outputs": [
    {
     "data": {
      "text/plain": [
       "<AxesSubplot:xlabel='Date'>"
      ]
     },
     "execution_count": 118,
     "metadata": {},
     "output_type": "execute_result"
    },
    {
     "data": {
      "image/png": "[encoded data removed]",
      "text/plain": [
       "<Figure size 432x288 with 1 Axes>"
      ]
     },
     "metadata": {
      "needs_background": "light"
     },
     "output_type": "display_data"
    }
   ],
   "source": [
    "df.loc[:,['vix_rank','skew_rank']].plot(color='r''g', linestyle='-')"
   ]
  },
  {
   "cell_type": "code",
   "execution_count": 119,
   "metadata": {},
   "outputs": [
    {
     "data": {
      "text/html": [
       "<div>\n",
       "<style scoped>\n",
       "    .dataframe tbody tr th:only-of-type {\n",
       "        vertical-align: middle;\n",
       "    }\n",
       "\n",
       "    .dataframe tbody tr th {\n",
       "        vertical-align: top;\n",
       "    }\n",
       "\n",
       "    .dataframe thead th {\n",
       "        text-align: right;\n",
       "    }\n",
       "</style>\n",
       "<table border=\"1\" class=\"dataframe\">\n",
       "  <thead>\n",
       "    <tr style=\"text-align: right;\">\n",
       "      <th></th>\n",
       "      <th>vix_rank</th>\n",
       "      <th>skew_rank</th>\n",
       "    </tr>\n",
       "    <tr>\n",
       "      <th>Date</th>\n",
       "      <th></th>\n",
       "      <th></th>\n",
       "    </tr>\n",
       "  </thead>\n",
       "  <tbody>\n",
       "    <tr>\n",
       "      <th>2021-07-02</th>\n",
       "      <td>0.274</td>\n",
       "      <td>1.0</td>\n",
       "    </tr>\n",
       "    <tr>\n",
       "      <th>2021-07-06</th>\n",
       "      <td>0.270</td>\n",
       "      <td>1.0</td>\n",
       "    </tr>\n",
       "    <tr>\n",
       "      <th>2021-07-07</th>\n",
       "      <td>0.268</td>\n",
       "      <td>1.0</td>\n",
       "    </tr>\n",
       "    <tr>\n",
       "      <th>2021-07-08</th>\n",
       "      <td>0.276</td>\n",
       "      <td>1.0</td>\n",
       "    </tr>\n",
       "    <tr>\n",
       "      <th>2021-07-09</th>\n",
       "      <td>0.270</td>\n",
       "      <td>1.0</td>\n",
       "    </tr>\n",
       "  </tbody>\n",
       "</table>\n",
       "</div>"
      ],
      "text/plain": [
       "            vix_rank  skew_rank\n",
       "Date                           \n",
       "2021-07-02     0.274        1.0\n",
       "2021-07-06     0.270        1.0\n",
       "2021-07-07     0.268        1.0\n",
       "2021-07-08     0.276        1.0\n",
       "2021-07-09     0.270        1.0"
      ]
     },
     "execution_count": 119,
     "metadata": {},
     "output_type": "execute_result"
    }
   ],
   "source": [
    "df[['vix_rank','skew_rank']].tail(5)"
   ]
  },
  {
   "cell_type": "markdown",
   "metadata": {},
   "source": [
    "#### Intra Signal"
   ]
  },
  {
   "cell_type": "code",
   "execution_count": 120,
   "metadata": {},
   "outputs": [],
   "source": [
    "df['vix_2_mov']=df['vix_close'].rolling(window=2).mean()\n",
    "scale_n=100\n",
    "df['vol_rank']=df['vix_2_mov'].dropna().rolling(window=scale_n).apply(lambda x:( x.rank(ascending=True)[-1])/scale_n,raw=False)\n",
    "df['intra_in_out']=np.where(df['vol_rank'] > 0.6,1,0)"
   ]
  },
  {
   "cell_type": "markdown",
   "metadata": {},
   "source": [
    "#### Combine_VIX_Signal"
   ]
  },
  {
   "cell_type": "code",
   "execution_count": 121,
   "metadata": {},
   "outputs": [
    {
     "data": {
      "text/plain": [
       "Date\n",
       "2021-02-17    0\n",
       "2021-02-18    0\n",
       "2021-02-19    0\n",
       "2021-02-22    0\n",
       "2021-02-23    0\n",
       "             ..\n",
       "2021-07-02    1\n",
       "2021-07-06    1\n",
       "2021-07-07    1\n",
       "2021-07-08    1\n",
       "2021-07-09    0\n",
       "Name: com_vix_profit_taking, Length: 100, dtype: int32"
      ]
     },
     "execution_count": 121,
     "metadata": {},
     "output_type": "execute_result"
    }
   ],
   "source": [
    "df['com_vix_signal']=(1-df['vol_rank'])+df['ewmav_rank']\n",
    "#df['com_vix_signal']=(1-df['vix_rank'])+df['skew_rank']\n",
    "df['com_spx_in_out']=np.where(df['com_vix_signal']>=0.5,1,0)\n",
    "df['com_vix_profit_taking']=np.where(df['com_vix_signal']>=1.5,1,0)\n",
    "df['com_vix_profit_taking'].tail(100)\n",
    "#df['com_vix_profit_taking'].plot()"
   ]
  },
  {
   "cell_type": "markdown",
   "metadata": {},
   "source": [
    "#### Vol Expected"
   ]
  },
  {
   "cell_type": "code",
   "execution_count": 122,
   "metadata": {},
   "outputs": [
    {
     "data": {
      "image/png": "[encoded data removed]",
      "text/plain": [
       "<Figure size 432x288 with 1 Axes>"
      ]
     },
     "metadata": {
      "needs_background": "light"
     },
     "output_type": "display_data"
    }
   ],
   "source": [
    "df['vix_diff']=df['vix_close'].diff(15)/15\n",
    "df['vix_diff'].plot()\n",
    "df['vix_carry']=df['ewmav']/22*100\n",
    "df['vix_carry'].plot()\n",
    "\n",
    "\n",
    "df['vix_diff_rank']=df['vix_diff'].dropna().rolling(window=250).apply(lambda x:( x.rank(ascending=True)[-1])/250,raw=False)\n",
    "df['vix_carry_rank']=df['vix_carry'].dropna().rolling(window=250).apply(lambda x:( x.rank(ascending=True)[-1])/250,raw=False)\n",
    "\n",
    "df['vix_ex']=df['vix_carry_rank']-df['vix_diff_rank']"
   ]
  },
  {
   "cell_type": "markdown",
   "metadata": {},
   "source": [
    "##### Vix & Skew Signal"
   ]
  },
  {
   "cell_type": "code",
   "execution_count": 123,
   "metadata": {},
   "outputs": [],
   "source": [
    "\n",
    "def vix_s(v,s):\n",
    "    c=np.empty\n",
    "    if v > 0.5 and s >0.5:\n",
    "        c = 0 # 0.1\n",
    "    elif v >0.5 and s <=0.75:\n",
    "        c= -1.5  #9.5\n",
    "    elif v<=0.5 and s > 0.5:\n",
    "        c = -1\n",
    "    elif v <=0.5 and s <= 0.5:\n",
    "        c = -0.3\n",
    "    else:\n",
    "        c=0\n",
    "    return c \n",
    "                        "
   ]
  },
  {
   "cell_type": "code",
   "execution_count": 124,
   "metadata": {},
   "outputs": [],
   "source": [
    "def rt_s(r,t):\n",
    "    c=np.empty\n",
    "    if r >= 0 and t == 1:\n",
    "        c = -0.4 # 0.1\n",
    "    else:\n",
    "        c= r\n",
    "    return c "
   ]
  },
  {
   "cell_type": "code",
   "execution_count": 125,
   "metadata": {},
   "outputs": [
    {
     "data": {
      "text/html": [
       "<div>\n",
       "<style scoped>\n",
       "    .dataframe tbody tr th:only-of-type {\n",
       "        vertical-align: middle;\n",
       "    }\n",
       "\n",
       "    .dataframe tbody tr th {\n",
       "        vertical-align: top;\n",
       "    }\n",
       "\n",
       "    .dataframe thead th {\n",
       "        text-align: right;\n",
       "    }\n",
       "</style>\n",
       "<table border=\"1\" class=\"dataframe\">\n",
       "  <thead>\n",
       "    <tr style=\"text-align: right;\">\n",
       "      <th></th>\n",
       "      <th>vix_high</th>\n",
       "      <th>vix_low</th>\n",
       "      <th>vix_open</th>\n",
       "      <th>vix_close</th>\n",
       "      <th>vix_volume</th>\n",
       "      <th>vix_adj_close</th>\n",
       "      <th>skew_high</th>\n",
       "      <th>skew_low</th>\n",
       "      <th>skew_open</th>\n",
       "      <th>skew_close</th>\n",
       "      <th>...</th>\n",
       "      <th>rt_signal</th>\n",
       "      <th>seokgoo_spx_signal</th>\n",
       "      <th>spx_intra_vol</th>\n",
       "      <th>seokgoo_spx_intra_barri</th>\n",
       "      <th>seokgoo_vix_signal</th>\n",
       "      <th>seokgoo_profit_taking</th>\n",
       "      <th>seokgoo_intra_in_out</th>\n",
       "      <th>spx_fut_ret</th>\n",
       "      <th>vix_fut_ret</th>\n",
       "      <th>wei</th>\n",
       "    </tr>\n",
       "    <tr>\n",
       "      <th>Date</th>\n",
       "      <th></th>\n",
       "      <th></th>\n",
       "      <th></th>\n",
       "      <th></th>\n",
       "      <th></th>\n",
       "      <th></th>\n",
       "      <th></th>\n",
       "      <th></th>\n",
       "      <th></th>\n",
       "      <th></th>\n",
       "      <th></th>\n",
       "      <th></th>\n",
       "      <th></th>\n",
       "      <th></th>\n",
       "      <th></th>\n",
       "      <th></th>\n",
       "      <th></th>\n",
       "      <th></th>\n",
       "      <th></th>\n",
       "      <th></th>\n",
       "      <th></th>\n",
       "    </tr>\n",
       "  </thead>\n",
       "  <tbody>\n",
       "    <tr>\n",
       "      <th>2021-07-02</th>\n",
       "      <td>15.530000</td>\n",
       "      <td>15.540000</td>\n",
       "      <td>14.25</td>\n",
       "      <td>15.070000</td>\n",
       "      <td>15.070000</td>\n",
       "      <td>0</td>\n",
       "      <td>157.940002</td>\n",
       "      <td>157.940002</td>\n",
       "      <td>157.940002</td>\n",
       "      <td>157.940002</td>\n",
       "      <td>...</td>\n",
       "      <td>-1.0</td>\n",
       "      <td>BUY S&amp;P500</td>\n",
       "      <td>-0.006624</td>\n",
       "      <td>-0.173695</td>\n",
       "      <td>Sell VIX</td>\n",
       "      <td>No Action</td>\n",
       "      <td>No Action</td>\n",
       "      <td>0.007500</td>\n",
       "      <td>-0.410000</td>\n",
       "      <td>-0.837405</td>\n",
       "    </tr>\n",
       "    <tr>\n",
       "      <th>2021-07-06</th>\n",
       "      <td>15.770000</td>\n",
       "      <td>17.940001</td>\n",
       "      <td>15.73</td>\n",
       "      <td>16.440001</td>\n",
       "      <td>16.440001</td>\n",
       "      <td>0</td>\n",
       "      <td>157.940002</td>\n",
       "      <td>157.940002</td>\n",
       "      <td>157.940002</td>\n",
       "      <td>157.940002</td>\n",
       "      <td>...</td>\n",
       "      <td>-1.0</td>\n",
       "      <td>BUY S&amp;P500</td>\n",
       "      <td>0.000000</td>\n",
       "      <td>-0.156820</td>\n",
       "      <td>Sell VIX</td>\n",
       "      <td>Profit_taking</td>\n",
       "      <td>No Action</td>\n",
       "      <td>-0.002022</td>\n",
       "      <td>1.370001</td>\n",
       "      <td>-0.581221</td>\n",
       "    </tr>\n",
       "    <tr>\n",
       "      <th>2021-07-07</th>\n",
       "      <td>16.430000</td>\n",
       "      <td>17.639999</td>\n",
       "      <td>16.08</td>\n",
       "      <td>16.200001</td>\n",
       "      <td>16.200001</td>\n",
       "      <td>0</td>\n",
       "      <td>153.750000</td>\n",
       "      <td>153.750000</td>\n",
       "      <td>153.750000</td>\n",
       "      <td>153.750000</td>\n",
       "      <td>...</td>\n",
       "      <td>-1.0</td>\n",
       "      <td>BUY S&amp;P500</td>\n",
       "      <td>-0.002494</td>\n",
       "      <td>-0.164730</td>\n",
       "      <td>Sell VIX</td>\n",
       "      <td>No Action</td>\n",
       "      <td>No Action</td>\n",
       "      <td>0.003359</td>\n",
       "      <td>-0.240000</td>\n",
       "      <td>-0.604366</td>\n",
       "    </tr>\n",
       "    <tr>\n",
       "      <th>2021-07-08</th>\n",
       "      <td>17.740000</td>\n",
       "      <td>21.290001</td>\n",
       "      <td>17.74</td>\n",
       "      <td>19.000000</td>\n",
       "      <td>19.000000</td>\n",
       "      <td>0</td>\n",
       "      <td>152.820007</td>\n",
       "      <td>152.820007</td>\n",
       "      <td>152.820007</td>\n",
       "      <td>152.820007</td>\n",
       "      <td>...</td>\n",
       "      <td>-1.0</td>\n",
       "      <td>BUY S&amp;P500</td>\n",
       "      <td>-0.002270</td>\n",
       "      <td>-0.160022</td>\n",
       "      <td>Sell VIX</td>\n",
       "      <td>No Action</td>\n",
       "      <td>No Action</td>\n",
       "      <td>-0.008561</td>\n",
       "      <td>2.799999</td>\n",
       "      <td>-0.157774</td>\n",
       "    </tr>\n",
       "    <tr>\n",
       "      <th>2021-07-09</th>\n",
       "      <td>17.879999</td>\n",
       "      <td>18.129999</td>\n",
       "      <td>16.08</td>\n",
       "      <td>16.180000</td>\n",
       "      <td>16.180000</td>\n",
       "      <td>0</td>\n",
       "      <td>155.699997</td>\n",
       "      <td>155.699997</td>\n",
       "      <td>155.699997</td>\n",
       "      <td>155.699997</td>\n",
       "      <td>...</td>\n",
       "      <td>-1.0</td>\n",
       "      <td>BUY S&amp;P500</td>\n",
       "      <td>-0.009662</td>\n",
       "      <td>-0.210510</td>\n",
       "      <td>Sell VIX</td>\n",
       "      <td>No Action</td>\n",
       "      <td>No Action</td>\n",
       "      <td>0.011278</td>\n",
       "      <td>-2.820000</td>\n",
       "      <td>-0.534651</td>\n",
       "    </tr>\n",
       "  </tbody>\n",
       "</table>\n",
       "<p>5 rows × 64 columns</p>\n",
       "</div>"
      ],
      "text/plain": [
       "             vix_high    vix_low  vix_open  vix_close  vix_volume  \\\n",
       "Date                                                                \n",
       "2021-07-02  15.530000  15.540000     14.25  15.070000   15.070000   \n",
       "2021-07-06  15.770000  17.940001     15.73  16.440001   16.440001   \n",
       "2021-07-07  16.430000  17.639999     16.08  16.200001   16.200001   \n",
       "2021-07-08  17.740000  21.290001     17.74  19.000000   19.000000   \n",
       "2021-07-09  17.879999  18.129999     16.08  16.180000   16.180000   \n",
       "\n",
       "            vix_adj_close   skew_high    skew_low   skew_open  skew_close  \\\n",
       "Date                                                                        \n",
       "2021-07-02              0  157.940002  157.940002  157.940002  157.940002   \n",
       "2021-07-06              0  157.940002  157.940002  157.940002  157.940002   \n",
       "2021-07-07              0  153.750000  153.750000  153.750000  153.750000   \n",
       "2021-07-08              0  152.820007  152.820007  152.820007  152.820007   \n",
       "2021-07-09              0  155.699997  155.699997  155.699997  155.699997   \n",
       "\n",
       "            ...  rt_signal  seokgoo_spx_signal  spx_intra_vol  \\\n",
       "Date        ...                                                 \n",
       "2021-07-02  ...       -1.0          BUY S&P500      -0.006624   \n",
       "2021-07-06  ...       -1.0          BUY S&P500       0.000000   \n",
       "2021-07-07  ...       -1.0          BUY S&P500      -0.002494   \n",
       "2021-07-08  ...       -1.0          BUY S&P500      -0.002270   \n",
       "2021-07-09  ...       -1.0          BUY S&P500      -0.009662   \n",
       "\n",
       "            seokgoo_spx_intra_barri  seokgoo_vix_signal  \\\n",
       "Date                                                      \n",
       "2021-07-02                -0.173695            Sell VIX   \n",
       "2021-07-06                -0.156820            Sell VIX   \n",
       "2021-07-07                -0.164730            Sell VIX   \n",
       "2021-07-08                -0.160022            Sell VIX   \n",
       "2021-07-09                -0.210510            Sell VIX   \n",
       "\n",
       "            seokgoo_profit_taking  seokgoo_intra_in_out  spx_fut_ret  \\\n",
       "Date                                                                   \n",
       "2021-07-02              No Action             No Action     0.007500   \n",
       "2021-07-06          Profit_taking             No Action    -0.002022   \n",
       "2021-07-07              No Action             No Action     0.003359   \n",
       "2021-07-08              No Action             No Action    -0.008561   \n",
       "2021-07-09              No Action             No Action     0.011278   \n",
       "\n",
       "            vix_fut_ret       wei  \n",
       "Date                               \n",
       "2021-07-02    -0.410000 -0.837405  \n",
       "2021-07-06     1.370001 -0.581221  \n",
       "2021-07-07    -0.240000 -0.604366  \n",
       "2021-07-08     2.799999 -0.157774  \n",
       "2021-07-09    -2.820000 -0.534651  \n",
       "\n",
       "[5 rows x 64 columns]"
      ]
     },
     "execution_count": 125,
     "metadata": {},
     "output_type": "execute_result"
    }
   ],
   "source": [
    "df.tail()"
   ]
  },
  {
   "cell_type": "code",
   "execution_count": 126,
   "metadata": {},
   "outputs": [],
   "source": [
    "df['vix_signal']=df.loc[:,['vix_rank','skew_rank']].dropna().apply(lambda x: vix_s(x[0],x[1]),axis=1)\n",
    "df['rt_signal']=df.loc[:,['vix_signal','vix_trend']].dropna().apply(lambda x: rt_s(x[0],x[1]),axis=1)"
   ]
  },
  {
   "cell_type": "code",
   "execution_count": 127,
   "metadata": {},
   "outputs": [
    {
     "name": "stdout",
     "output_type": "stream",
     "text": [
      "           seokgoo_spx_signal seokgoo_vix_signal seokgoo_profit_taking  \\\n",
      "Date                                                                     \n",
      "2021-07-08         BUY S&P500           Sell VIX         Profit_taking   \n",
      "2021-07-09         BUY S&P500           Sell VIX             No Action   \n",
      "\n",
      "           seokgoo_intra_in_out  seokgoo_spx_intra_barri  \n",
      "Date                                                      \n",
      "2021-07-08            No Action                -0.160022  \n",
      "2021-07-09            No Action                -0.210510  \n"
     ]
    }
   ],
   "source": [
    "#df['seokgoo_vix_signal']=df['rt_signal'].shift(1)\n",
    "df['seokgoo_spx_signal']=np.where(df['com_spx_in_out'].shift(1)==1,'BUY S&P500','Neutral')\n",
    "df['spx_intra_vol']=(df['spx_high']-df['spx_low'])/df['spx_close']\n",
    "df['seokgoo_spx_intra_barri']=df['spx_intra_vol'].rolling(5).mean()*100*0.5\n",
    "\n",
    "df['seokgoo_vix_signal']=np.where(df['ewmav_signal']==-1, 'Sell VIX','Neutral')\n",
    "df['seokgoo_profit_taking']=np.where(df['com_vix_profit_taking'] ==1,'Profit_taking','No Action')\n",
    "df['seokgoo_intra_in_out']=np.where(df['intra_in_out'] ==1, 'Enter','No Action')\n",
    "\n",
    "seokgoo=pd.concat([df['seokgoo_spx_signal'],df['seokgoo_vix_signal'],df['seokgoo_profit_taking'],df['seokgoo_intra_in_out'],df['seokgoo_spx_intra_barri']],axis=1)\n",
    "print(seokgoo.tail(2))"
   ]
  },
  {
   "cell_type": "markdown",
   "metadata": {},
   "source": [
    "#####  Return Simulation"
   ]
  },
  {
   "cell_type": "code",
   "execution_count": 128,
   "metadata": {},
   "outputs": [],
   "source": [
    "df['spx_fut_ret']=df['spx_ret']\n",
    "df['vix_fut_ret']=df['vix_ret']"
   ]
  },
  {
   "cell_type": "code",
   "execution_count": 129,
   "metadata": {},
   "outputs": [
    {
     "data": {
      "text/plain": [
       "<AxesSubplot:xlabel='Date'>"
      ]
     },
     "execution_count": 129,
     "metadata": {},
     "output_type": "execute_result"
    },
    {
     "data": {
      "image/png": "[encoded data removed]",
      "text/plain": [
       "<Figure size 432x288 with 1 Axes>"
      ]
     },
     "metadata": {
      "needs_background": "light"
     },
     "output_type": "display_data"
    }
   ],
   "source": [
    "df['vix_fut_ret'].plot()"
   ]
  },
  {
   "cell_type": "code",
   "execution_count": 138,
   "metadata": {},
   "outputs": [],
   "source": [
    "C=df['rt_signal'].shift(1)*df['spx_fut_ret']*-1\n",
    "C1=df['rv_signal'].shift(2)*df['spx_fut_ret']*df['hrv_signal'].shift(2)*2\n",
    "C2=df['com_spx_in_out'].shift(3)*df['spx_fut_ret']\n",
    "C4=df['com_vix_profit_taking'].shift(2)*df['vix_fut_ret']\n",
    "BM=df['spx_fut_ret']\n",
    "#C1=(df['rv_signal'].shift(2)*df['skew_rank'].shift(2))*df['spx_fu_ret']*3#*df['ewmarv_signal'].shift(1)\n",
    "#C1=df['hrv_signal'].shift(1)*df['spx_fu_ret']*5\n",
    "CCC=(1+C).cumprod()\n",
    "CCC1=(1+BM).cumprod()\n",
    "CCC2=(1+C2).cumprod()\n",
    "CD=C4.cumsum()"
   ]
  },
  {
   "cell_type": "code",
   "execution_count": 140,
   "metadata": {},
   "outputs": [
    {
     "data": {
      "text/plain": [
       "<AxesSubplot:xlabel='Date'>"
      ]
     },
     "execution_count": 140,
     "metadata": {},
     "output_type": "execute_result"
    },
    {
     "data": {
      "image/png": "[encoded data removed]",
      "text/plain": [
       "<Figure size 432x288 with 1 Axes>"
      ]
     },
     "metadata": {
      "needs_background": "light"
     },
     "output_type": "display_data"
    }
   ],
   "source": [
    "CD.loc['2020-01-01':].plot()"
   ]
  },
  {
   "cell_type": "code",
   "execution_count": 137,
   "metadata": {
    "scrolled": true
   },
   "outputs": [
    {
     "data": {
      "text/plain": [
       "<AxesSubplot:xlabel='Date'>"
      ]
     },
     "execution_count": 137,
     "metadata": {},
     "output_type": "execute_result"
    },
    {
     "data": {
      "image/png": "[encoded data removed]",
      "text/plain": [
       "<Figure size 432x288 with 1 Axes>"
      ]
     },
     "metadata": {
      "needs_background": "light"
     },
     "output_type": "display_data"
    }
   ],
   "source": [
    "CCC2.loc['2007-01-01':].plot(legend=True)\n",
    "CCC1.loc['2007-01-01':].plot()"
   ]
  },
  {
   "cell_type": "markdown",
   "metadata": {},
   "source": [
    "##### mean Reverstion Strategy"
   ]
  },
  {
   "cell_type": "code",
   "execution_count": 108,
   "metadata": {},
   "outputs": [],
   "source": [
    "def mean_reverting(da,nday):\n",
    "    import numpy as np\n",
    "    ww=[]\n",
    "    for i in range(nday):\n",
    "        ww.append(i+1)\n",
    "    da=np.array(da)\n",
    "    weight=np.dot(da,ww)*-1*4\n",
    "    #weight=np.where(weight<0,0,weight)\n",
    "    return weight"
   ]
  },
  {
   "cell_type": "code",
   "execution_count": 109,
   "metadata": {},
   "outputs": [
    {
     "data": {
      "text/plain": [
       "[1, 2, 3, 4, 5]"
      ]
     },
     "execution_count": 109,
     "metadata": {},
     "output_type": "execute_result"
    }
   ],
   "source": [
    "ww=[]\n",
    "for i in range(5):\n",
    "    ww.append(i+1) \n",
    "ww"
   ]
  },
  {
   "cell_type": "code",
   "execution_count": 110,
   "metadata": {},
   "outputs": [],
   "source": [
    "q=np.array(ww)"
   ]
  },
  {
   "cell_type": "code",
   "execution_count": 111,
   "metadata": {},
   "outputs": [
    {
     "data": {
      "text/plain": [
       "-0.14271573912609892"
      ]
     },
     "execution_count": 111,
     "metadata": {},
     "output_type": "execute_result"
    }
   ],
   "source": [
    "x=df['spx_ret'].tail(5).T\n",
    "mean_reverting(x,5)"
   ]
  },
  {
   "cell_type": "code",
   "execution_count": 112,
   "metadata": {},
   "outputs": [],
   "source": [
    "df['wei']=df['spx_ret'].dropna().rolling(10).apply(lambda x: mean_reverting(x,10),raw=False)"
   ]
  },
  {
   "cell_type": "code",
   "execution_count": 113,
   "metadata": {},
   "outputs": [
    {
     "data": {
      "text/plain": [
       "Date\n",
       "2021-07-02   -0.837405\n",
       "2021-07-06   -0.581221\n",
       "2021-07-07   -0.604366\n",
       "2021-07-08   -0.157774\n",
       "2021-07-09   -0.534651\n",
       "Name: wei, dtype: float64"
      ]
     },
     "execution_count": 113,
     "metadata": {},
     "output_type": "execute_result"
    }
   ],
   "source": [
    "df['wei'].tail(5)"
   ]
  },
  {
   "cell_type": "code",
   "execution_count": 114,
   "metadata": {},
   "outputs": [
    {
     "data": {
      "text/plain": [
       "<AxesSubplot:xlabel='Date'>"
      ]
     },
     "execution_count": 114,
     "metadata": {},
     "output_type": "execute_result"
    },
    {
     "data": {
      "image/png": "[encoded data removed]",
      "text/plain": [
       "<Figure size 432x288 with 1 Axes>"
      ]
     },
     "metadata": {
      "needs_background": "light"
     },
     "output_type": "display_data"
    }
   ],
   "source": [
    "df['wei'].plot()"
   ]
  },
  {
   "cell_type": "code",
   "execution_count": 115,
   "metadata": {},
   "outputs": [],
   "source": [
    "#sendtxt=seokgoo.columns.values.tolist()+seokgoo.tail(1).values.tolist()\n"
   ]
  },
  {
   "cell_type": "code",
   "execution_count": 76,
   "metadata": {},
   "outputs": [],
   "source": [
    "txtcol=seokgoo.columns.values.tolist()\n",
    "txtval=seokgoo.tail(1).values.tolist()"
   ]
  },
  {
   "cell_type": "code",
   "execution_count": 77,
   "metadata": {},
   "outputs": [
    {
     "data": {
      "text/plain": [
       "'BUY S&P500'"
      ]
     },
     "execution_count": 77,
     "metadata": {},
     "output_type": "execute_result"
    }
   ],
   "source": [
    "str(txtval[0][0])"
   ]
  },
  {
   "cell_type": "code",
   "execution_count": 78,
   "metadata": {},
   "outputs": [],
   "source": [
    "import telepot"
   ]
  },
  {
   "cell_type": "code",
   "execution_count": 154,
   "metadata": {},
   "outputs": [],
   "source": [
    "ma=txtcol[0]+':'+ str(txtval[0][0])+'\\n'+txtcol[1]+':'+ str(txtval[0][1])+'\\n'+txtcol[2]+':'+ str(txtval[0][2])+'\\n'+txtcol[3]+':'+ str(txtval[0][3])+'\\n'"
   ]
  },
  {
   "cell_type": "code",
   "execution_count": 155,
   "metadata": {},
   "outputs": [
    {
     "data": {
      "text/plain": [
       "'seokgoo_spx_signal:BUY S&P500\\nseokgoo_vix_signal:Sell VIX\\nseokgoo_profit_taking:Profit_taking\\nseokgoo_intra_in_out:No Action\\n'"
      ]
     },
     "execution_count": 155,
     "metadata": {},
     "output_type": "execute_result"
    }
   ],
   "source": [
    "ma"
   ]
  },
  {
   "cell_type": "code",
   "execution_count": 159,
   "metadata": {},
   "outputs": [],
   "source": [
    "#bot=telepot.Bot(token=)\n",
    "#'1869681798:AAHUK-pLER5Uah_xHYkD6TgUBgph8Aa2kkM'\n",
    "#id1='508255215' #남석구\n",
    "#id2='34316367' #이승민\n",
    "#id3='1524661832' # 이상훈\n",
    "#id4='1863846600' #주완석\n",
    "#id5='1854200369'"
   ]
  },
  {
   "cell_type": "code",
   "execution_count": 160,
   "metadata": {},
   "outputs": [],
   "source": [
    "li=[id1,id2,id3,id4,id5]"
   ]
  },
  {
   "cell_type": "code",
   "execution_count": 167,
   "metadata": {},
   "outputs": [],
   "source": [
    "for i in li:\n",
    "    bot.sendMessage(i,'저는 Stone9입니다. 오늘 시그널 보내 드립니다') \n",
    "    bot.sendMessage(i,'새롭게  Profit Taking Signal이 추가 되었습니다.') \n",
    "    bot.sendMessage(i,'만약 시그널이 나오면 위 험포지션 전략의 절반 청산 추천 그리고 현재 이시그널은 6/28일부터 작동되고 있습니다')\n",
    "    bot.sendMessage(i,txtcol[0]+':'+ str(txtval[0][0])+'\\n'+txtcol[1]+':'+ str(txtval[0][1])+'\\n'+txtcol[2]+':'+ str(txtval[0][2])+'\\n'+txtcol[3]+':'+ str(txtval[0][3]))\n",
    "  "
   ]
  },
  {
   "cell_type": "code",
   "execution_count": null,
   "metadata": {},
   "outputs": [],
   "source": []
  }
 ],
 "metadata": {
  "kernelspec": {
   "display_name": "Python 3",
   "language": "python",
   "name": "python3"
  },
  "language_info": {
   "codemirror_mode": {
    "name": "ipython",
    "version": 3
   },
   "file_extension": ".py",
   "mimetype": "text/x-python",
   "name": "python",
   "nbconvert_exporter": "python",
   "pygments_lexer": "ipython3",
   "version": "3.8.8"
  }
 },
 "nbformat": 4,
 "nbformat_minor": 2
}
